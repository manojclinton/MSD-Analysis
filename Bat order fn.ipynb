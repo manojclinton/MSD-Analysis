{
 "cells": [
  {
   "cell_type": "code",
   "execution_count": 7,
   "metadata": {},
   "outputs": [
    {
     "data": {
      "text/html": [
       "<div>\n",
       "<style scoped>\n",
       "    .dataframe tbody tr th:only-of-type {\n",
       "        vertical-align: middle;\n",
       "    }\n",
       "\n",
       "    .dataframe tbody tr th {\n",
       "        vertical-align: top;\n",
       "    }\n",
       "\n",
       "    .dataframe thead th {\n",
       "        text-align: right;\n",
       "    }\n",
       "</style>\n",
       "<table border=\"1\" class=\"dataframe\">\n",
       "  <thead>\n",
       "    <tr style=\"text-align: right;\">\n",
       "      <th></th>\n",
       "      <th>Batsman</th>\n",
       "      <th>Bat_order</th>\n",
       "      <th>Runs</th>\n",
       "    </tr>\n",
       "  </thead>\n",
       "  <tbody>\n",
       "    <tr>\n",
       "      <th>0</th>\n",
       "      <td>AJ Finch</td>\n",
       "      <td>1</td>\n",
       "      <td>1</td>\n",
       "    </tr>\n",
       "    <tr>\n",
       "      <th>1</th>\n",
       "      <td>BB McCullum</td>\n",
       "      <td>2</td>\n",
       "      <td>1</td>\n",
       "    </tr>\n",
       "  </tbody>\n",
       "</table>\n",
       "</div>"
      ],
      "text/plain": [
       "       Batsman  Bat_order  Runs\n",
       "0     AJ Finch          1     1\n",
       "1  BB McCullum          2     1"
      ]
     },
     "execution_count": 7,
     "metadata": {},
     "output_type": "execute_result"
    }
   ],
   "source": [
    "import numpy as np\n",
    "import pandas as pd\n",
    "import math\n",
    "import matplotlib.pyplot as plt\n",
    "\n",
    "def ipl(matchid, inning):\n",
    "    df=pd.read_csv('ipl_ball_by_ball_data.csv')\n",
    "    \n",
    "    req_df=df[(df.match_id==matchid)&(df.innings== inning)]     \n",
    "    \n",
    "    ndf=req_df.sort_values('ball')           \n",
    "    a=ndf.striker.unique()\n",
    "    b=ndf.non_striker.unique() \n",
    "       \n",
    "    combine_list=[]\n",
    "    for aval, bval in zip(a, b):\n",
    "        combine_list.append(aval)\n",
    "        combine_list.append(bval) \n",
    "    setcombine_list = (set(combine_list))\n",
    "\n",
    "    def bat_order(list1):\n",
    "        proper_list = []   \n",
    "        for x in combine_list:\n",
    "\n",
    "            if x not in proper_list:\n",
    "                proper_list.append(x)\n",
    "\n",
    "        return (proper_list)      \n",
    "\n",
    "    fdf=bat_order(combine_list)\n",
    "    \n",
    "\n",
    "    bat_order_df=pd.DataFrame(fdf).rename(columns={0:'Batsman'})\n",
    "    \n",
    "    bat_order_df['Bat_order'] = range(1, len(bat_order_df)+1)\n",
    "    \n",
    "    runs_df = pd.DataFrame(ndf.groupby('striker')['runs_off_bat'].sum()).reset_index().rename(columns={'striker':'Batsman','runs_off_bat':'Runs'})\n",
    "\n",
    "    #balls_df = pd.DataFrame(ndf.groupby('striker')['runs_off_bat'].sum()).reset_index().rename(columns={'striker':'Batsman','runs_off_bat':'Runs'})\n",
    "    \n",
    "    final_df = bat_order_df.merge(runs_df, on = 'Batsman', how = 'left')\n",
    "    return final_df\n",
    "\n",
    "ipl(matchid = 1082625 , inning = 4)"
   ]
  },
  {
   "cell_type": "code",
   "execution_count": null,
   "metadata": {},
   "outputs": [],
   "source": [
    "1082625"
   ]
  }
 ],
 "metadata": {
  "kernelspec": {
   "display_name": "Python 3",
   "language": "python",
   "name": "python3"
  },
  "language_info": {
   "codemirror_mode": {
    "name": "ipython",
    "version": 3
   },
   "file_extension": ".py",
   "mimetype": "text/x-python",
   "name": "python",
   "nbconvert_exporter": "python",
   "pygments_lexer": "ipython3",
   "version": "3.8.5"
  }
 },
 "nbformat": 4,
 "nbformat_minor": 4
}
